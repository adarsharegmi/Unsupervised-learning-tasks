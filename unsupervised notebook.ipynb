{
 "cells": [
  {
   "cell_type": "code",
   "execution_count": 1,
   "id": "acd60f37",
   "metadata": {},
   "outputs": [],
   "source": [
    "# importing the required libraries \n",
    "\n",
    "import pandas as pd \n",
    "import os\n",
    "import matplotlib.pyplot as plt\n",
    "import numpy as np"
   ]
  },
  {
   "cell_type": "code",
   "execution_count": 2,
   "id": "95f29606",
   "metadata": {},
   "outputs": [],
   "source": [
    "df = pd.read_csv('Data for Q1-3.csv')"
   ]
  },
  {
   "cell_type": "code",
   "execution_count": 3,
   "id": "f29d830d",
   "metadata": {},
   "outputs": [
    {
     "data": {
      "text/html": [
       "<div>\n",
       "<style scoped>\n",
       "    .dataframe tbody tr th:only-of-type {\n",
       "        vertical-align: middle;\n",
       "    }\n",
       "\n",
       "    .dataframe tbody tr th {\n",
       "        vertical-align: top;\n",
       "    }\n",
       "\n",
       "    .dataframe thead th {\n",
       "        text-align: right;\n",
       "    }\n",
       "</style>\n",
       "<table border=\"1\" class=\"dataframe\">\n",
       "  <thead>\n",
       "    <tr style=\"text-align: right;\">\n",
       "      <th></th>\n",
       "      <th>Gender</th>\n",
       "      <th>Age</th>\n",
       "      <th>d 5100-0</th>\n",
       "      <th>d 5100-1</th>\n",
       "      <th>d 5100-2</th>\n",
       "      <th>d 5100-3</th>\n",
       "      <th>d 5100-4</th>\n",
       "      <th>d 5100-8</th>\n",
       "      <th>d 5100-9</th>\n",
       "      <th>d 5101-0</th>\n",
       "      <th>...</th>\n",
       "      <th>d 57022-8</th>\n",
       "      <th>d 57022-9</th>\n",
       "      <th>d 571-0</th>\n",
       "      <th>d 571-1</th>\n",
       "      <th>d 571-2</th>\n",
       "      <th>d 571-3</th>\n",
       "      <th>d 571-4</th>\n",
       "      <th>d 571-8</th>\n",
       "      <th>d 571-9</th>\n",
       "      <th>Classes</th>\n",
       "    </tr>\n",
       "  </thead>\n",
       "  <tbody>\n",
       "    <tr>\n",
       "      <th>0</th>\n",
       "      <td>0</td>\n",
       "      <td>18</td>\n",
       "      <td>0</td>\n",
       "      <td>0</td>\n",
       "      <td>0</td>\n",
       "      <td>0</td>\n",
       "      <td>1</td>\n",
       "      <td>0</td>\n",
       "      <td>0</td>\n",
       "      <td>0</td>\n",
       "      <td>...</td>\n",
       "      <td>0</td>\n",
       "      <td>0</td>\n",
       "      <td>0</td>\n",
       "      <td>0</td>\n",
       "      <td>0</td>\n",
       "      <td>0</td>\n",
       "      <td>1</td>\n",
       "      <td>0</td>\n",
       "      <td>0</td>\n",
       "      <td>class6</td>\n",
       "    </tr>\n",
       "    <tr>\n",
       "      <th>1</th>\n",
       "      <td>0</td>\n",
       "      <td>22</td>\n",
       "      <td>0</td>\n",
       "      <td>0</td>\n",
       "      <td>0</td>\n",
       "      <td>0</td>\n",
       "      <td>1</td>\n",
       "      <td>0</td>\n",
       "      <td>0</td>\n",
       "      <td>0</td>\n",
       "      <td>...</td>\n",
       "      <td>0</td>\n",
       "      <td>0</td>\n",
       "      <td>0</td>\n",
       "      <td>0</td>\n",
       "      <td>0</td>\n",
       "      <td>1</td>\n",
       "      <td>0</td>\n",
       "      <td>0</td>\n",
       "      <td>0</td>\n",
       "      <td>class6</td>\n",
       "    </tr>\n",
       "    <tr>\n",
       "      <th>2</th>\n",
       "      <td>0</td>\n",
       "      <td>18</td>\n",
       "      <td>0</td>\n",
       "      <td>0</td>\n",
       "      <td>0</td>\n",
       "      <td>1</td>\n",
       "      <td>0</td>\n",
       "      <td>0</td>\n",
       "      <td>0</td>\n",
       "      <td>0</td>\n",
       "      <td>...</td>\n",
       "      <td>0</td>\n",
       "      <td>0</td>\n",
       "      <td>0</td>\n",
       "      <td>0</td>\n",
       "      <td>0</td>\n",
       "      <td>1</td>\n",
       "      <td>0</td>\n",
       "      <td>0</td>\n",
       "      <td>0</td>\n",
       "      <td>class6</td>\n",
       "    </tr>\n",
       "    <tr>\n",
       "      <th>3</th>\n",
       "      <td>1</td>\n",
       "      <td>18</td>\n",
       "      <td>0</td>\n",
       "      <td>0</td>\n",
       "      <td>0</td>\n",
       "      <td>0</td>\n",
       "      <td>1</td>\n",
       "      <td>0</td>\n",
       "      <td>0</td>\n",
       "      <td>0</td>\n",
       "      <td>...</td>\n",
       "      <td>0</td>\n",
       "      <td>0</td>\n",
       "      <td>0</td>\n",
       "      <td>0</td>\n",
       "      <td>1</td>\n",
       "      <td>0</td>\n",
       "      <td>0</td>\n",
       "      <td>0</td>\n",
       "      <td>0</td>\n",
       "      <td>class6</td>\n",
       "    </tr>\n",
       "    <tr>\n",
       "      <th>4</th>\n",
       "      <td>0</td>\n",
       "      <td>19</td>\n",
       "      <td>0</td>\n",
       "      <td>0</td>\n",
       "      <td>0</td>\n",
       "      <td>0</td>\n",
       "      <td>1</td>\n",
       "      <td>0</td>\n",
       "      <td>0</td>\n",
       "      <td>0</td>\n",
       "      <td>...</td>\n",
       "      <td>0</td>\n",
       "      <td>0</td>\n",
       "      <td>0</td>\n",
       "      <td>0</td>\n",
       "      <td>1</td>\n",
       "      <td>0</td>\n",
       "      <td>0</td>\n",
       "      <td>0</td>\n",
       "      <td>0</td>\n",
       "      <td>class6</td>\n",
       "    </tr>\n",
       "  </tbody>\n",
       "</table>\n",
       "<p>5 rows × 206 columns</p>\n",
       "</div>"
      ],
      "text/plain": [
       "   Gender  Age  d 5100-0  d 5100-1  d 5100-2  d 5100-3  d 5100-4  d 5100-8  \\\n",
       "0       0   18         0         0         0         0         1         0   \n",
       "1       0   22         0         0         0         0         1         0   \n",
       "2       0   18         0         0         0         1         0         0   \n",
       "3       1   18         0         0         0         0         1         0   \n",
       "4       0   19         0         0         0         0         1         0   \n",
       "\n",
       "   d 5100-9  d 5101-0  ...  d 57022-8  d 57022-9  d 571-0  d 571-1  d 571-2  \\\n",
       "0         0         0  ...          0          0        0        0        0   \n",
       "1         0         0  ...          0          0        0        0        0   \n",
       "2         0         0  ...          0          0        0        0        0   \n",
       "3         0         0  ...          0          0        0        0        1   \n",
       "4         0         0  ...          0          0        0        0        1   \n",
       "\n",
       "   d 571-3  d 571-4  d 571-8  d 571-9  Classes  \n",
       "0        0        1        0        0   class6  \n",
       "1        1        0        0        0   class6  \n",
       "2        1        0        0        0   class6  \n",
       "3        0        0        0        0   class6  \n",
       "4        0        0        0        0   class6  \n",
       "\n",
       "[5 rows x 206 columns]"
      ]
     },
     "execution_count": 3,
     "metadata": {},
     "output_type": "execute_result"
    }
   ],
   "source": [
    "# head prints top 5 rows\n",
    "df.head()"
   ]
  },
  {
   "cell_type": "code",
   "execution_count": 4,
   "id": "d655c871",
   "metadata": {},
   "outputs": [
    {
     "data": {
      "text/plain": [
       "(70, 206)"
      ]
     },
     "execution_count": 4,
     "metadata": {},
     "output_type": "execute_result"
    }
   ],
   "source": [
    "df.shape"
   ]
  },
  {
   "cell_type": "code",
   "execution_count": 5,
   "id": "6085a360",
   "metadata": {},
   "outputs": [
    {
     "data": {
      "text/plain": [
       "70"
      ]
     },
     "execution_count": 5,
     "metadata": {},
     "output_type": "execute_result"
    }
   ],
   "source": [
    "#iloc is index based slicing \n",
    "\n",
    "raw_data = df.iloc[:, 2:205].values\n",
    "len(raw_data)"
   ]
  },
  {
   "cell_type": "code",
   "execution_count": null,
   "id": "ab4a8bdf",
   "metadata": {},
   "outputs": [],
   "source": []
  },
  {
   "cell_type": "code",
   "execution_count": 6,
   "id": "81f073a5",
   "metadata": {},
   "outputs": [
    {
     "data": {
      "image/png": "[encoded data removed]",
      "text/plain": [
       "<Figure size 432x288 with 1 Axes>"
      ]
     },
     "metadata": {
      "needs_background": "light"
     },
     "output_type": "display_data"
    }
   ],
   "source": [
    "# We need to find the value of k using elbow method.\n",
    "\n",
    "#wcss is the sum of squared distance betn each point and \n",
    "#centroid in cluster\n",
    "\n",
    "\n",
    "\n",
    "from sklearn.cluster import KMeans\n",
    "wcss_list = []\n",
    "\n",
    "for  i in range(1,10):\n",
    "    kmeans = KMeans(n_clusters=i, init='k-means++', random_state=4)\n",
    "    kmeans.fit(raw_data)\n",
    "    wcss_list.append(kmeans.inertia_)\n",
    "\n",
    "plt.plot(range(1,10), wcss_list)\n",
    "plt.title(\"The elbow method \")\n",
    "plt.xlabel(\"Number of clusters\")\n",
    "plt.ylabel(\"wcss_list\")\n",
    "plt.show()"
   ]
  },
  {
   "cell_type": "code",
   "execution_count": 8,
   "id": "befc5f85",
   "metadata": {},
   "outputs": [],
   "source": [
    "# from the above plot , the elbow point is at 3 \n",
    "# hence the number of clusters will be 3"
   ]
  },
  {
   "cell_type": "code",
   "execution_count": 9,
   "id": "e041dda4",
   "metadata": {},
   "outputs": [
    {
     "name": "stdout",
     "output_type": "stream",
     "text": [
      "the actual clusters are  7\n",
      "clusters are ['class6' 'class2' 'class4' 'class7' 'class1' 'class5' 'class3']\n"
     ]
    }
   ],
   "source": [
    "# lets check in attribute 206\n",
    "print(\"the actual clusters are \", df.iloc[:, 205].nunique())\n",
    "print('clusters are', df.iloc[:, 205].unique())\n"
   ]
  },
  {
   "cell_type": "code",
   "execution_count": 10,
   "id": "9d9e7c0d",
   "metadata": {},
   "outputs": [],
   "source": [
    "# so there are 7 classes in data but according to \n",
    "# elbow method itis only 3\n",
    "\n"
   ]
  },
  {
   "cell_type": "code",
   "execution_count": 11,
   "id": "b245f00c",
   "metadata": {},
   "outputs": [],
   "source": [
    "model = KMeans(n_clusters=3, init='k-means++', random_state=4)\n",
    "y_predict = model.fit_predict(raw_data)"
   ]
  },
  {
   "cell_type": "code",
   "execution_count": 12,
   "id": "b9294250",
   "metadata": {},
   "outputs": [],
   "source": [
    "x = raw_data"
   ]
  },
  {
   "cell_type": "code",
   "execution_count": 13,
   "id": "3d58f340",
   "metadata": {},
   "outputs": [
    {
     "data": {
      "image/png": "[encoded data removed]",
      "text/plain": [
       "<Figure size 432x288 with 1 Axes>"
      ]
     },
     "metadata": {
      "needs_background": "light"
     },
     "output_type": "display_data"
    }
   ],
   "source": [
    "plt.scatter(x[y_predict == 0, 0], x[y_predict == 0, 1], s = 100, c = 'blue', label = 'class 1') #for first cluster  \n",
    "plt.scatter(x[y_predict == 1, 0], x[y_predict == 1, 1], s = 100, c = 'green', label = 'class 2') #for second cluster  \n",
    "plt.scatter(x[y_predict== 2, 0], x[y_predict == 2, 1], s = 100, c = 'red', label = 'class 3') #for third cluster \n",
    "plt.scatter(kmeans.cluster_centers_[:, 0], kmeans.cluster_centers_[:, 1], s = 300, c = 'yellow', label = 'Centroid')  \n",
    "\n",
    "plt.title('Cluster of children')\n",
    "plt.xlabel(\"\")\n",
    "plt.ylabel(\"\")\n",
    "plt.legend('cluster')\n",
    "plt.show()"
   ]
  },
  {
   "cell_type": "code",
   "execution_count": 14,
   "id": "66fe26fb",
   "metadata": {},
   "outputs": [],
   "source": [
    "# Due to the huge number of featuers, the data model has faced cursed of dimensionality "
   ]
  },
  {
   "cell_type": "code",
   "execution_count": 15,
   "id": "864681ee",
   "metadata": {},
   "outputs": [],
   "source": [
    "# In order to reduce overcome the curse of dimensionality function\n",
    "# dimensionality rediction is used to reduce the feature space with consideradation by \n",
    "# a set of principal features"
   ]
  },
  {
   "cell_type": "code",
   "execution_count": 16,
   "id": "fb418dd2",
   "metadata": {},
   "outputs": [],
   "source": [
    "from sklearn.decomposition import PCA\n",
    "pca = PCA()\n",
    "pca.fit(raw_data)\n",
    "transformed = (pca.transform(raw_data))"
   ]
  },
  {
   "cell_type": "code",
   "execution_count": null,
   "id": "d4f00bae",
   "metadata": {},
   "outputs": [],
   "source": []
  },
  {
   "cell_type": "code",
   "execution_count": 17,
   "id": "860d0c66",
   "metadata": {},
   "outputs": [
    {
     "data": {
      "image/png": "[encoded data removed]",
      "text/plain": [
       "<Figure size 432x288 with 1 Axes>"
      ]
     },
     "metadata": {
      "needs_background": "light"
     },
     "output_type": "display_data"
    }
   ],
   "source": [
    "from sklearn.cluster import KMeans\n",
    "wcss_list = []\n",
    "\n",
    "for  i in range(1,10):\n",
    "    kmeans = KMeans(n_clusters=i, init='k-means++', random_state=4)\n",
    "    kmeans.fit(transformed)\n",
    "    wcss_list.append(kmeans.inertia_)\n",
    "\n",
    "plt.plot(range(1,10), wcss_list)\n",
    "plt.title(\"The elbow method \")\n",
    "plt.xlabel(\"Number of clusters\")\n",
    "plt.ylabel(\"wcss_list\")\n",
    "plt.show()"
   ]
  },
  {
   "cell_type": "code",
   "execution_count": 18,
   "id": "93f0ecd7",
   "metadata": {},
   "outputs": [],
   "source": [
    "# again building the model with new updated dataset \n",
    "\n",
    "model = KMeans(n_clusters=3, init='k-means++', random_state=4)\n",
    "y_predict = model.fit_predict(transformed)\n",
    "x = transformed"
   ]
  },
  {
   "cell_type": "code",
   "execution_count": 19,
   "id": "04b1d98a",
   "metadata": {},
   "outputs": [
    {
     "data": {
      "image/png": "[encoded data removed]",
      "text/plain": [
       "<Figure size 432x288 with 1 Axes>"
      ]
     },
     "metadata": {
      "needs_background": "light"
     },
     "output_type": "display_data"
    }
   ],
   "source": [
    "\n",
    "# plotting the diagram\n",
    "\n",
    "plt.scatter(x[y_predict == 0, 0], x[y_predict == 0, 1], s = 100, c = 'blue', label = 'class 1') #for first cluster  \n",
    "plt.scatter(x[y_predict == 1, 0], x[y_predict == 1, 1], s = 100, c = 'green', label = 'class 2') #for second cluster  \n",
    "plt.scatter(x[y_predict== 2, 0], x[y_predict == 2, 1], s = 100, c = 'red', label = 'class 3') #for third cluster \n",
    "plt.scatter(kmeans.cluster_centers_[:, 0], kmeans.cluster_centers_[:, 1], s = 300, c = 'yellow', label = 'Centroid')  \n",
    "\n",
    "plt.title('Cluster of children')\n",
    "plt.xlabel(\"\")\n",
    "plt.ylabel(\"\")\n",
    "plt.legend('cluster')\n",
    "plt.show()"
   ]
  },
  {
   "cell_type": "markdown",
   "id": "55cac440",
   "metadata": {},
   "source": [
    "# Question 2"
   ]
  },
  {
   "cell_type": "code",
   "execution_count": 20,
   "id": "77f9b97d",
   "metadata": {},
   "outputs": [
    {
     "name": "stdout",
     "output_type": "stream",
     "text": [
      "Components =  70 ;\n",
      "Total explained variance =  1.0\n"
     ]
    },
    {
     "data": {
      "image/png": "[encoded data removed]",
      "text/plain": [
       "<Figure size 432x288 with 1 Axes>"
      ]
     },
     "metadata": {
      "needs_background": "light"
     },
     "output_type": "display_data"
    }
   ],
   "source": [
    "#pca.explained_variance_ratio_\n",
    "print ( \"Components = \", pca.n_components_ , \";\\nTotal explained variance = \",\n",
    "      round(pca.explained_variance_ratio_.sum(),5)  )\n",
    "\n",
    "plt.plot(np.cumsum(pca.explained_variance_ratio_))\n",
    "plt.xlabel('number of components')\n",
    "plt.ylabel('cumulative explained variance');"
   ]
  },
  {
   "cell_type": "markdown",
   "id": "20e797fb",
   "metadata": {},
   "source": [
    "# reporting loss\n",
    "\n",
    "Looking at the above plot it seems the huge data is lost. In order to retain  variance more than 90% we nearly \n",
    "need to have components more than 30. This shows how much data is lost.Similarly, we can observe the presence of replicate components as they have no significance in retaining the variance."
   ]
  },
  {
   "cell_type": "markdown",
   "id": "f6b3744b",
   "metadata": {},
   "source": [
    "# Question No 3"
   ]
  },
  {
   "cell_type": "markdown",
   "id": "d948db5f",
   "metadata": {},
   "source": [
    "Constructing the priniciple components \n",
    "\n",
    "\n",
    "> > The components are build in such a way that the first possible principle component accounts for maximum possible variance\n",
    "\n",
    ">> After having the principal components, to compute the percentage of variance (information) accounted for by each component, we divide the eigenvalue of each component by the sum of eigenvalues. "
   ]
  },
  {
   "cell_type": "code",
   "execution_count": 21,
   "id": "41b7d62e",
   "metadata": {},
   "outputs": [
    {
     "name": "stdout",
     "output_type": "stream",
     "text": [
      "Components =  4 ;\n",
      "Total explained variance =  0.55766\n"
     ]
    }
   ],
   "source": [
    "# finding for n :\n",
    "n = 4 \n",
    "\n",
    "pca = PCA(n_components = n)\n",
    "pca.fit(raw_data)\n",
    "transformed = (pca.transform(raw_data))\n",
    "\n",
    "print ( \"Components = \", pca.n_components_ , \";\\nTotal explained variance = \",\n",
    "      round(pca.explained_variance_ratio_.sum(),5)  )\n"
   ]
  }
 ],
 "metadata": {
  "kernelspec": {
   "display_name": "Python 3",
   "language": "python",
   "name": "python3"
  },
  "language_info": {
   "codemirror_mode": {
    "name": "ipython",
    "version": 3
   },
   "file_extension": ".py",
   "mimetype": "text/x-python",
   "name": "python",
   "nbconvert_exporter": "python",
   "pygments_lexer": "ipython3",
   "version": "3.9.1"
  }
 },
 "nbformat": 4,
 "nbformat_minor": 5
}
